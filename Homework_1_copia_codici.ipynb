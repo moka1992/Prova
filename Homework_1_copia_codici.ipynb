{
 "cells": [
  {
   "cell_type": "markdown",
   "metadata": {},
   "source": [
    "\n",
    "\n"
   ]
  },
  {
   "cell_type": "markdown",
   "metadata": {},
   "source": [
    "# Subdomains: Introduction Challenges"
   ]
  },
  {
   "cell_type": "markdown",
   "metadata": {},
   "source": [
    "Say \"Hello, World!\" With Python"
   ]
  },
  {
   "cell_type": "code",
   "execution_count": null,
   "metadata": {
    "collapsed": true
   },
   "outputs": [],
   "source": [
    "if __name__ == '__main__':\n",
    "    print(\"Hello, World!\")"
   ]
  },
  {
   "cell_type": "markdown",
   "metadata": {},
   "source": [
    "Python If-Else"
   ]
  },
  {
   "cell_type": "code",
   "execution_count": null,
   "metadata": {
    "collapsed": true
   },
   "outputs": [],
   "source": [
    "if __name__ == '__main__':\n",
    "    n = int(input())\n",
    "\n",
    "    \n",
    "if n in range (1,101):\n",
    "    if n %2 != 0:\n",
    "        print ('Weird')\n",
    "    elif n%2 == 0:\n",
    "        if n in range (2,6):\n",
    "            print ('Not Weird')\n",
    "        elif n in range (6,21):\n",
    "            print ('Weird')\n",
    "        else:\n",
    "            print ('Not Weird')"
   ]
  },
  {
   "cell_type": "markdown",
   "metadata": {},
   "source": [
    "Arithmetic Operators"
   ]
  },
  {
   "cell_type": "code",
   "execution_count": null,
   "metadata": {
    "collapsed": true
   },
   "outputs": [],
   "source": [
    "if __name__ == '__main__':\n",
    "    a = int(input())\n",
    "    b = int(input())\n",
    "\n",
    "    \n",
    "\n",
    "print (a+b)\n",
    "print (a-b)\n",
    "print (a*b)"
   ]
  },
  {
   "cell_type": "markdown",
   "metadata": {},
   "source": [
    "Python: Division"
   ]
  },
  {
   "cell_type": "code",
   "execution_count": null,
   "metadata": {
    "collapsed": true
   },
   "outputs": [],
   "source": [
    "if __name__ == '__main__':\n",
    "    a = int(input())\n",
    "    b = int(input())\n",
    "\n",
    "print (a //b)\n",
    "print (a / b)"
   ]
  },
  {
   "cell_type": "markdown",
   "metadata": {},
   "source": [
    "Loops"
   ]
  },
  {
   "cell_type": "code",
   "execution_count": null,
   "metadata": {
    "collapsed": true
   },
   "outputs": [],
   "source": [
    "if __name__ == '__main__':\n",
    "    n = int(input())\n",
    "            \n",
    "            \n",
    "[print(i**2) for i in range (n)]"
   ]
  },
  {
   "cell_type": "markdown",
   "metadata": {},
   "source": [
    "Write a function"
   ]
  },
  {
   "cell_type": "code",
   "execution_count": null,
   "metadata": {
    "collapsed": true
   },
   "outputs": [],
   "source": [
    "def is_leap(year):\n",
    "    leap = False\n",
    "    \n",
    "    # Write your logic here\n",
    "    if year%4 == 0:\n",
    "        leap=True\n",
    "        if year%100 == 0:\n",
    "            leap=False\n",
    "            if year%400 == 0:\n",
    "                leap=True\n",
    "    \n",
    "    return leap"
   ]
  },
  {
   "cell_type": "markdown",
   "metadata": {},
   "source": [
    "Print Function"
   ]
  },
  {
   "cell_type": "code",
   "execution_count": null,
   "metadata": {
    "collapsed": true
   },
   "outputs": [],
   "source": [
    "if __name__ == '__main__':\n",
    "    n = int(input())\n",
    "\n",
    "\n",
    "a=''\n",
    "for i in range (1,n+1):\n",
    "    a = a+str(i)\n",
    "print(a)"
   ]
  },
  {
   "cell_type": "markdown",
   "metadata": {},
   "source": [
    "# Subdomains: Basic Data Types Challenges"
   ]
  },
  {
   "cell_type": "markdown",
   "metadata": {},
   "source": [
    "Lists"
   ]
  },
  {
   "cell_type": "code",
   "execution_count": null,
   "metadata": {
    "collapsed": true
   },
   "outputs": [],
   "source": [
    "if __name__ == '__main__':\n",
    "    N = int(input())\n",
    "\n",
    "    lst=[]\n",
    "    for x in range(N):\n",
    "        args= input().strip().split()\n",
    "        args[1:]=map(int,args[1:])\n",
    "        try:\n",
    "            getattr(lst,args[0])(*args[1:])\n",
    "        except AttributeError:\n",
    "            print (lst)"
   ]
  },
  {
   "cell_type": "markdown",
   "metadata": {},
   "source": [
    "Tuples"
   ]
  },
  {
   "cell_type": "code",
   "execution_count": null,
   "metadata": {
    "collapsed": true
   },
   "outputs": [],
   "source": [
    "if __name__ == '__main__':\n",
    "    n = int(raw_input())\n",
    "    integer_list = map(int, raw_input().split())\n",
    "\n",
    "    \n",
    "    print (hash(tuple(integer_list)))"
   ]
  },
  {
   "cell_type": "markdown",
   "metadata": {},
   "source": [
    "List Comprehensions"
   ]
  },
  {
   "cell_type": "code",
   "execution_count": null,
   "metadata": {
    "collapsed": true
   },
   "outputs": [],
   "source": [
    "if __name__ == '__main__':\n",
    "    x = int(input())\n",
    "    y = int(input())\n",
    "    z = int(input())\n",
    "    n = int(input())\n",
    "\n",
    "print ([[a,b,c] for a in range (x+1) for b in range (y+1) for c in range (z+1) if ((a+b+c) != n)])"
   ]
  },
  {
   "cell_type": "markdown",
   "metadata": {},
   "source": [
    "Find the Second Largest Number"
   ]
  },
  {
   "cell_type": "code",
   "execution_count": null,
   "metadata": {
    "collapsed": true
   },
   "outputs": [],
   "source": [
    "if __name__ == '__main__':\n",
    "    n = int(input())\n",
    "    arr =map(int, input().split())\n",
    "  \n",
    "    arr= list(arr)[:n]\n",
    "    a=max (arr)\n",
    "    while max (arr) == a:\n",
    "        arr.remove(max(arr))\n",
    "\n",
    "    print (max(arr))"
   ]
  },
  {
   "cell_type": "markdown",
   "metadata": {},
   "source": [
    "Nested Lists"
   ]
  },
  {
   "cell_type": "code",
   "execution_count": null,
   "metadata": {
    "collapsed": true
   },
   "outputs": [],
   "source": [
    "if __name__ == '__main__':\n",
    "    first = []\n",
    "    n = int(input())\n",
    "    for _ in range(n):\n",
    "        name = input()\n",
    "        score = float(input())\n",
    "        first.append([score,name])\n",
    "        \n",
    "ordered=sorted(first)\n",
    "\n",
    "y = 0\n",
    "for x in range(n):\n",
    "    if ordered[x][0] > ordered[0][0]:\n",
    "        y = x\n",
    "        break\n",
    "        \n",
    "for x in range(n):\n",
    "    if ordered[y][0] == ordered[x][0]:\n",
    "        print(ordered[x][1])"
   ]
  },
  {
   "cell_type": "markdown",
   "metadata": {},
   "source": [
    "Finding the percentage"
   ]
  },
  {
   "cell_type": "code",
   "execution_count": null,
   "metadata": {
    "collapsed": true
   },
   "outputs": [],
   "source": [
    "if __name__ == '__main__':\n",
    "    n = int(input())\n",
    "    student_marks = {}\n",
    "    for _ in range(n):\n",
    "        name, *line = input().split()\n",
    "        scores = list(map(float, line))\n",
    "        student_marks[name] = scores\n",
    "    query_name = input()\n",
    "\n",
    "    \n",
    "\n",
    "    student_marks = student_marks[query_name]\n",
    "    \n",
    "    a=(sum(student_marks)/(len(student_marks)))\n",
    "    print('%.2f' %a)"
   ]
  },
  {
   "cell_type": "markdown",
   "metadata": {},
   "source": [
    "# Subdomains: Strings Challenges"
   ]
  },
  {
   "cell_type": "markdown",
   "metadata": {},
   "source": [
    "sWAP cASE"
   ]
  },
  {
   "cell_type": "code",
   "execution_count": null,
   "metadata": {
    "collapsed": true
   },
   "outputs": [],
   "source": [
    "def swap_case(s):\n",
    "    s= s.swapcase()\n",
    "    return s"
   ]
  },
  {
   "cell_type": "markdown",
   "metadata": {},
   "source": [
    "String Split and Join"
   ]
  },
  {
   "cell_type": "code",
   "execution_count": null,
   "metadata": {
    "collapsed": true
   },
   "outputs": [],
   "source": [
    "def split_and_join(line):\n",
    "    # write your code here\n",
    "    line=line.split(\" \")\n",
    "    line=\"-\".join(line)\n",
    "    return line"
   ]
  },
  {
   "cell_type": "markdown",
   "metadata": {},
   "source": [
    "What's Your Name?"
   ]
  },
  {
   "cell_type": "code",
   "execution_count": null,
   "metadata": {
    "collapsed": true
   },
   "outputs": [],
   "source": [
    "def print_full_name(a, b):\n",
    "    print(\"Hello %s %s! You just delved into python.\" %(a,b))"
   ]
  },
  {
   "cell_type": "markdown",
   "metadata": {},
   "source": [
    "Mutations"
   ]
  },
  {
   "cell_type": "code",
   "execution_count": null,
   "metadata": {
    "collapsed": true
   },
   "outputs": [],
   "source": [
    "def mutate_string(string, position, character):\n",
    "    l = list(string)\n",
    "    l[position]= character\n",
    "    string = ''.join(l)\n",
    "    return string"
   ]
  },
  {
   "cell_type": "markdown",
   "metadata": {},
   "source": [
    "Find a string"
   ]
  },
  {
   "cell_type": "code",
   "execution_count": null,
   "metadata": {
    "collapsed": true
   },
   "outputs": [],
   "source": [
    "def count_substring(string, sub_string):\n",
    "    \n",
    "    counter= 0\n",
    "    \n",
    "    for x in range (len(string)):\n",
    "        if string[x:x+len(sub_string)]!=sub_string:\n",
    "            pass\n",
    "        else:\n",
    "            counter += 1\n",
    "\n",
    "    return counter"
   ]
  },
  {
   "cell_type": "markdown",
   "metadata": {},
   "source": [
    "String Validators"
   ]
  },
  {
   "cell_type": "code",
   "execution_count": null,
   "metadata": {
    "collapsed": true
   },
   "outputs": [],
   "source": [
    "if __name__ == '__main__':\n",
    "    s = input()\n",
    "\n",
    "def funzione(s):\n",
    "    print(any(a.isalnum() for a in s))\n",
    "    print(any(a.isalpha() for a in s))\n",
    "    print(any(a.isdigit() for a in s))\n",
    "    print(any(a.islower() for a in s))\n",
    "    return(any(a.isupper() for a in s))\n",
    "\n",
    "print (funzione(s))"
   ]
  },
  {
   "cell_type": "markdown",
   "metadata": {},
   "source": [
    "Text Alignment"
   ]
  },
  {
   "cell_type": "code",
   "execution_count": null,
   "metadata": {
    "collapsed": true
   },
   "outputs": [],
   "source": [
    "#Replace all ______ with rjust, ljust or center. \n",
    "\n",
    "thickness = int(input()) #This must be an odd number\n",
    "c = 'H'\n",
    "\n",
    "#Top Cone\n",
    "for i in range(thickness):\n",
    "    print((c*i).rjust(thickness-1)+c+(c*i).ljust(thickness-1))\n",
    "\n",
    "#Top Pillars\n",
    "for i in range(thickness+1):\n",
    "    print((c*thickness).center(thickness*2)+(c*thickness).center(thickness*6))\n",
    "\n",
    "#Middle Belt\n",
    "for i in range((thickness+1)//2):\n",
    "    print((c*thickness*5).center(thickness*6))    \n",
    "\n",
    "#Bottom Pillars\n",
    "for i in range(thickness+1):\n",
    "    print((c*thickness).center(thickness*2)+(c*thickness).center(thickness*6))    \n",
    "\n",
    "#Bottom Cone\n",
    "for i in range(thickness):\n",
    "    print(((c*(thickness-i-1)).rjust(thickness)+c+(c*(thickness-i-1)).ljust(thickness)).rjust(thickness*6))"
   ]
  },
  {
   "cell_type": "markdown",
   "metadata": {},
   "source": [
    "Text Wrap"
   ]
  },
  {
   "cell_type": "code",
   "execution_count": null,
   "metadata": {
    "collapsed": true
   },
   "outputs": [],
   "source": [
    "def wrap(string, max_width):\n",
    "    \n",
    "    return textwrap.fill(string, max_width) "
   ]
  },
  {
   "cell_type": "markdown",
   "metadata": {},
   "source": [
    "Designer Door Mat"
   ]
  },
  {
   "cell_type": "code",
   "execution_count": null,
   "metadata": {
    "collapsed": true
   },
   "outputs": [],
   "source": [
    "N, M = map(int,input().split()) # More than 6 lines of code will result in 0 score. Blank lines are not counted.\n",
    "for i in range(1,N,2): \n",
    "    print ((i*'.|.').center(M,'-'))\n",
    "print ('WELCOME'.center(M,'-')) \n",
    "for i in range(N-2,-1,-2): \n",
    "    print ((i*'.|.').center(M, '-'))"
   ]
  },
  {
   "cell_type": "markdown",
   "metadata": {},
   "source": [
    "String Formatting"
   ]
  },
  {
   "cell_type": "code",
   "execution_count": null,
   "metadata": {
    "collapsed": true
   },
   "outputs": [],
   "source": [
    "def print_formatted(number):\n",
    "    # your code goes here \n",
    "    \n",
    "   \n",
    "\n",
    "    prova = []\n",
    "\n",
    "    for i in range(1, n+1):\n",
    "        d = str(i)\n",
    "        o = oct(i)[2:]\n",
    "        h = hex(i)[2:].upper()\n",
    "        b = bin(i)[2:]\n",
    "\n",
    "        prova.append([d, o, h, b])\n",
    "\n",
    "        width = len(prova[-1][3])\n",
    "\n",
    "    for x in prova:\n",
    "        print(*(prova.rjust(width) for prova in x))"
   ]
  },
  {
   "cell_type": "markdown",
   "metadata": {},
   "source": [
    "Alphabet Rangoli (idea from disc)"
   ]
  },
  {
   "cell_type": "code",
   "execution_count": null,
   "metadata": {
    "collapsed": true
   },
   "outputs": [],
   "source": [
    "def print_rangoli(size):\n",
    "    # your code goes here\n",
    "    import string\n",
    "    letters = string.ascii_lowercase\n",
    "    \n",
    "    a=[]\n",
    "    for i in range(n):\n",
    "        s = \"-\".join(letters[i:n])\n",
    "        a.append(s[::-1]+s[1:])\n",
    "\n",
    "    width = len(a[0])\n",
    "\n",
    "    \n",
    "    \n",
    "    \n",
    "    for i in range(n-1, 0, -1):\n",
    "        print(a[i].center(width, \"-\"))\n",
    "\n",
    "    for i in range(n):\n",
    "        print(a[i].center(width, \"-\"))"
   ]
  },
  {
   "cell_type": "markdown",
   "metadata": {},
   "source": [
    "Capitalize!"
   ]
  },
  {
   "cell_type": "code",
   "execution_count": null,
   "metadata": {
    "collapsed": true
   },
   "outputs": [],
   "source": [
    "def capitalize(string):\n",
    "    string_list=list(string)\n",
    "    spazi = [i for i, x in enumerate(string_list) if x == \" \"]\n",
    "    for i in spazi:\n",
    "        string_list[0]=string_list[0].upper()\n",
    "        string_list[i+1] = string_list[i+1].upper()\n",
    "    string=''.join(string_list)\n",
    "    \n",
    "    return (string)"
   ]
  },
  {
   "cell_type": "markdown",
   "metadata": {},
   "source": [
    "The Minion Game"
   ]
  },
  {
   "cell_type": "code",
   "execution_count": null,
   "metadata": {
    "collapsed": true
   },
   "outputs": [],
   "source": [
    "def minion_game(string):\n",
    "    # your code goes here\n",
    "\n",
    "    Vocali =['A','E','I','O','U']\n",
    "    Stuart=0\n",
    "    Kevin=0\n",
    "    for i in range(len(string)):\n",
    "        if string[i] not in Vocali:\n",
    "            Stuart = Stuart + len(string)-i\n",
    "        else:\n",
    "            Kevin= Kevin + len(string)-i\n",
    "            \n",
    "    if Stuart>Kevin:\n",
    "        print(\"Stuart %d\" %Stuart)\n",
    "    elif Kevin>Stuart:\n",
    "        print(\"Kevin %d\" % Kevin)\n",
    "    else:\n",
    "        print(\"Draw\")"
   ]
  },
  {
   "cell_type": "markdown",
   "metadata": {},
   "source": [
    "Merge the Tools!"
   ]
  },
  {
   "cell_type": "code",
   "execution_count": null,
   "metadata": {
    "collapsed": true
   },
   "outputs": [],
   "source": [
    "def merge_the_tools(string, k):\n",
    "    # your code goes here\n",
    "    n = len(string)\n",
    "    sub=int(n/k)\n",
    "    provaa = [string[i:i + k] for i in range(0,n,k)]\n",
    "    for i in range (sub):\n",
    "        print (''.join(sorted(set(provaa[i]), key=provaa[i].index)))"
   ]
  },
  {
   "cell_type": "markdown",
   "metadata": {},
   "source": [
    "# Subdomains: Sets Challenges"
   ]
  },
  {
   "cell_type": "markdown",
   "metadata": {},
   "source": [
    "Introduction to Sets"
   ]
  },
  {
   "cell_type": "code",
   "execution_count": null,
   "metadata": {
    "collapsed": true
   },
   "outputs": [],
   "source": [
    "def average(array):\n",
    "    # your code goes here\n",
    "    a=set(array)\n",
    "    b=len(set(array))\n",
    "    somma=sum(a)\n",
    "    return (somma/b)"
   ]
  },
  {
   "cell_type": "markdown",
   "metadata": {},
   "source": [
    "Symmetric Difference"
   ]
  },
  {
   "cell_type": "code",
   "execution_count": null,
   "metadata": {
    "collapsed": true
   },
   "outputs": [],
   "source": [
    "na = int(input())\n",
    "a = list(map(int, input().split()))\n",
    "nb = int(input())\n",
    "b = list(map(int, input().split()))\n",
    "\n",
    "\n",
    "myseta = set(a) \n",
    "mysetb = set(b) \n",
    "aa=((myseta.difference(mysetb)))\n",
    "bb=((mysetb.difference(myseta)))\n",
    "\n",
    "print (*sorted(aa^bb), sep ='\\n')"
   ]
  },
  {
   "cell_type": "markdown",
   "metadata": {},
   "source": [
    "No Idea!"
   ]
  },
  {
   "cell_type": "code",
   "execution_count": null,
   "metadata": {
    "collapsed": true
   },
   "outputs": [],
   "source": [
    "insieme1, insieme2 = input().split()\n",
    "aaa = [int(i) for i in input().split()]\n",
    "a =  set(list(map(int, input().split())))\n",
    "b =  set(list(map(int, input().split())))\n",
    "\n",
    "conto=0\n",
    "for i in aaa:\n",
    "    if i in a:\n",
    "        conto=conto+1\n",
    "    elif i in b:\n",
    "        conto=conto-1\n",
    "    else:\n",
    "        conto+=0\n",
    "\n",
    "\n",
    "print (conto)"
   ]
  },
  {
   "cell_type": "markdown",
   "metadata": {},
   "source": [
    "Set .add()"
   ]
  },
  {
   "cell_type": "code",
   "execution_count": null,
   "metadata": {
    "collapsed": true
   },
   "outputs": [],
   "source": [
    "n=int(input())\n",
    "empty=set([])\n",
    "for i in range(n):\n",
    "    empty.add(input())\n",
    "\n",
    "print(len(empty))"
   ]
  },
  {
   "cell_type": "markdown",
   "metadata": {},
   "source": [
    "Set .discard(), .remove() & .pop()"
   ]
  },
  {
   "cell_type": "code",
   "execution_count": null,
   "metadata": {
    "collapsed": true
   },
   "outputs": [],
   "source": [
    "n = int(input())\n",
    "s = set(map(int, input().split())) \n",
    "\n",
    "numero_comandi=int(input())\n",
    "for i in range(numero_comandi):\n",
    "    comandi=input().split()\n",
    "    if comandi[0]==\"pop\" :\n",
    "        s.pop()\n",
    "    elif comandi[0]==\"remove\" :\n",
    "        s.remove(int(comandi[1]))\n",
    "    else: \n",
    "        s.discard(int(comandi[1]))\n",
    "    \n",
    "print (sum(s))"
   ]
  },
  {
   "cell_type": "markdown",
   "metadata": {},
   "source": [
    "Set .union() Operation"
   ]
  },
  {
   "cell_type": "code",
   "execution_count": null,
   "metadata": {
    "collapsed": true
   },
   "outputs": [],
   "source": [
    "num_en=int(input())\n",
    "roll_en = set(map(int, input().split())) \n",
    "num_fr=int(input())\n",
    "roll_fr = set(map(int, input().split())) \n",
    "\n",
    "print(len(roll_en.union(roll_fr)))"
   ]
  },
  {
   "cell_type": "markdown",
   "metadata": {},
   "source": [
    "Set .intersection() Operation"
   ]
  },
  {
   "cell_type": "code",
   "execution_count": null,
   "metadata": {
    "collapsed": true
   },
   "outputs": [],
   "source": [
    "num_en=int(input())\n",
    "roll_en = set(map(int, input().split())) \n",
    "num_fr=int(input())\n",
    "roll_fr = set(map(int, input().split())) \n",
    "\n",
    "print(len(roll_en.intersection(roll_fr)))"
   ]
  },
  {
   "cell_type": "markdown",
   "metadata": {},
   "source": [
    "Set .difference() Operation"
   ]
  },
  {
   "cell_type": "code",
   "execution_count": null,
   "metadata": {
    "collapsed": true
   },
   "outputs": [],
   "source": [
    "num_en=int(input())\n",
    "roll_en = set(map(int, input().split())) \n",
    "num_fr=int(input())\n",
    "roll_fr = set(map(int, input().split())) \n",
    "\n",
    "print(len(roll_en.difference(roll_fr)))"
   ]
  },
  {
   "cell_type": "markdown",
   "metadata": {},
   "source": [
    "Set .symmetric_difference() Operation"
   ]
  },
  {
   "cell_type": "code",
   "execution_count": null,
   "metadata": {
    "collapsed": true
   },
   "outputs": [],
   "source": [
    "num_en=int(input())\n",
    "roll_en = set(map(int, input().split())) \n",
    "num_fr=int(input())\n",
    "roll_fr = set(map(int, input().split())) \n",
    "\n",
    "print(len(roll_en.symmetric_difference(roll_fr)))"
   ]
  },
  {
   "cell_type": "markdown",
   "metadata": {},
   "source": [
    "Set Mutations"
   ]
  },
  {
   "cell_type": "code",
   "execution_count": null,
   "metadata": {
    "collapsed": true
   },
   "outputs": [],
   "source": [
    "int(input())\n",
    "A=set(list(map(int, input().strip().split())))\n",
    "numero_comandi=int(input())\n",
    "\n",
    "for i in range(numero_comandi):\n",
    "    ins = list(input().split())\n",
    "    comandi=ins[0]\n",
    "    ins2=set(list(map(int, input().strip().split())))\n",
    "    if comandi == 'intersection_update':\n",
    "        A.intersection_update(ins2)\n",
    "    elif comandi == 'update':\n",
    "        A.update(ins2)\n",
    "    elif comandi == 'symmetric_difference_update':\n",
    "        A.symmetric_difference_update(ins2)\n",
    "    else:\n",
    "        A.difference_update(ins2)\n",
    "\n",
    "print(sum(A))"
   ]
  },
  {
   "cell_type": "markdown",
   "metadata": {},
   "source": [
    "The Captain's Room"
   ]
  },
  {
   "cell_type": "code",
   "execution_count": null,
   "metadata": {
    "collapsed": true
   },
   "outputs": [],
   "source": [
    "int(input())\n",
    "a=(map(int, input().split())) \n",
    "from collections import Counter  \n",
    "conteggi = Counter(a) \n",
    "minimo=min(conteggi.items(), key=lambda x: x[1])\n",
    "print (minimo[0])"
   ]
  },
  {
   "cell_type": "markdown",
   "metadata": {},
   "source": [
    "Check Subset"
   ]
  },
  {
   "cell_type": "code",
   "execution_count": null,
   "metadata": {
    "collapsed": true
   },
   "outputs": [],
   "source": [
    "for i in range(int(input())): #More than 4 lines will result in 0 score. Blank lines won't be counted. \n",
    "    a = int(input()); A = set(input().split()) \n",
    "    b = int(input()); B = set(input().split())\n",
    "\n",
    "    if A & B == A:\n",
    "        print (\"True\")\n",
    "    else:\n",
    "        print (\"False\")"
   ]
  },
  {
   "cell_type": "markdown",
   "metadata": {},
   "source": [
    "Check Strict Superset"
   ]
  },
  {
   "cell_type": "code",
   "execution_count": null,
   "metadata": {
    "collapsed": true
   },
   "outputs": [],
   "source": [
    "A = set(map(int, input().split())) \n",
    "n=int(input())\n",
    "\n",
    "liste=[]\n",
    "for i in range(n):\n",
    "    nuove = set(map(int, input().split()))\n",
    "    liste.append(nuove)\n",
    "    \n",
    "\n",
    "giuste=[]\n",
    "for i in liste:\n",
    "    ok=A.issuperset(i)\n",
    "    giuste.append(ok)\n",
    "    \n",
    "singole=list(set(giuste))\n",
    "if len(singole) == 1:\n",
    "    print (\"True\")\n",
    "else:\n",
    "    print (\"False\")"
   ]
  },
  {
   "cell_type": "markdown",
   "metadata": {},
   "source": [
    "# Subdomains: Collections Challenges"
   ]
  },
  {
   "cell_type": "markdown",
   "metadata": {},
   "source": [
    "collections.Counter()"
   ]
  },
  {
   "cell_type": "code",
   "execution_count": null,
   "metadata": {
    "collapsed": true
   },
   "outputs": [],
   "source": [
    "from collections import Counter\n",
    "\n",
    "X=int(input())\n",
    "shoe_sized=list(map(int, input().split()))\n",
    "N=int(input())\n",
    "\n",
    "a=Counter(shoe_sized)\n",
    "\n",
    "\n",
    "guadagni=0\n",
    "\n",
    "for i in range(N):\n",
    "    desider_shoe_size, price = map(int, input().split())\n",
    "    if a[desider_shoe_size]:\n",
    "        guadagni = guadagni + price\n",
    "        a[desider_shoe_size] = a[desider_shoe_size] -1\n",
    "        \n",
    "print (guadagni)   \n",
    "    "
   ]
  },
  {
   "cell_type": "markdown",
   "metadata": {},
   "source": [
    "DefaultDict Tutorial"
   ]
  },
  {
   "cell_type": "code",
   "execution_count": null,
   "metadata": {
    "collapsed": true
   },
   "outputs": [],
   "source": [
    "from collections import defaultdict\n",
    "d = defaultdict(list)\n",
    "\n",
    "\n",
    "dim=list(map(int, input().split())) \n",
    "let_a=dim[0]\n",
    "let_b=dim[1]\n",
    "tot=let_a+let_b\n",
    "\n",
    "for i in range(let_a):\n",
    "    d[input()].append(i+1)\n",
    "\n",
    "B=[]\n",
    "for i in range(let_a,tot):\n",
    "    nuove = input()\n",
    "    B.append(nuove)\n",
    "\n",
    "for i in B:\n",
    "    if i in d:\n",
    "        print (\" \".join(map(str,d[i])))\n",
    "    else:\n",
    "        print (-1)\n",
    "        \n",
    "        \n"
   ]
  },
  {
   "cell_type": "markdown",
   "metadata": {},
   "source": [
    "Collections.namedtuple()"
   ]
  },
  {
   "cell_type": "code",
   "execution_count": null,
   "metadata": {
    "collapsed": true
   },
   "outputs": [],
   "source": [
    "from collections import namedtuple\n",
    "\n",
    "n = int(input())\n",
    "Student =  namedtuple('Student',input())\n",
    "ok=[]\n",
    "for i in range(0,n):\n",
    "    a=(sum([int(Student(*input().split()).MARKS)])/n )\n",
    "    ok.append(a)\n",
    "print (sum(ok))"
   ]
  },
  {
   "cell_type": "markdown",
   "metadata": {},
   "source": [
    "Collections.OrderedDict()"
   ]
  },
  {
   "cell_type": "code",
   "execution_count": null,
   "metadata": {
    "collapsed": true
   },
   "outputs": [],
   "source": [
    "from collections import OrderedDict\n",
    "\n",
    "n = int(input())\n",
    "mio_dict = OrderedDict()\n",
    "\n",
    "for i in range(n):\n",
    "    frutta = input().split(\" \")\n",
    "    name = \" \".join(frutta[0:-1])\n",
    "    price = int(frutta[-1])\n",
    "    \n",
    "    if mio_dict.get(name):\n",
    "        mio_dict[name] = mio_dict[name]+price\n",
    "    else:\n",
    "        mio_dict[name] = price\n",
    "\n",
    "#print(mio_dict)\n",
    "\n",
    "for prova in mio_dict:\n",
    "    print(prova, mio_dict[prova])"
   ]
  },
  {
   "cell_type": "markdown",
   "metadata": {},
   "source": [
    "Word Order"
   ]
  },
  {
   "cell_type": "code",
   "execution_count": null,
   "metadata": {
    "collapsed": true
   },
   "outputs": [],
   "source": [
    "from collections import OrderedDict\n",
    "n=int(input())\n",
    "ok = OrderedDict()\n",
    "for i in range(n):\n",
    "    x= input().strip(\"\")\n",
    "    if x in ok:\n",
    "        ok[x] +=1\n",
    "    else:\n",
    "        ok[x] = 1\n",
    "print(len(ok))\n",
    "\n",
    "\n",
    "for x in ok:\n",
    "    print (ok[x], sep=' ', end=' ', flush=True)"
   ]
  },
  {
   "cell_type": "markdown",
   "metadata": {},
   "source": [
    "Collections.deque()"
   ]
  },
  {
   "cell_type": "code",
   "execution_count": null,
   "metadata": {
    "collapsed": true
   },
   "outputs": [],
   "source": [
    "from collections import deque\n",
    "d=deque()\n",
    "n= int (input())\n",
    "for i in range(n):\n",
    "    comandi=input().split()\n",
    "    if comandi[0]==\"append\" :\n",
    "        d.append(int(comandi[1]))\n",
    "    elif comandi[0]==\"pop\" :\n",
    "        d.pop()\n",
    "    elif comandi [0]==\"popleft\":\n",
    "        d.popleft()\n",
    "    else: \n",
    "        d.appendleft(int(comandi[1]))\n",
    "        \n",
    "print(*d)"
   ]
  },
  {
   "cell_type": "markdown",
   "metadata": {},
   "source": [
    "Piling Up!"
   ]
  },
  {
   "cell_type": "code",
   "execution_count": null,
   "metadata": {
    "collapsed": true
   },
   "outputs": [],
   "source": [
    "from collections import deque\n",
    "\n",
    "n = int(input())\n",
    "\n",
    "for i in range(n):\n",
    "    prova = True\n",
    "    n = int(input())\n",
    "    d = deque(map(int, input().split()))\n",
    "    while len(d) >= 2:\n",
    "        if d[-1] >= d[-2]:\n",
    "            d.pop()\n",
    "        \n",
    "        elif d[0] >= d[1]:\n",
    "            d.popleft()\n",
    "        else:\n",
    "            prova = False\n",
    "            break\n",
    "    if not prova:\n",
    "        print(\"No\")\n",
    "    else:\n",
    "        print(\"Yes\")"
   ]
  },
  {
   "cell_type": "markdown",
   "metadata": {},
   "source": [
    "Most Common"
   ]
  },
  {
   "cell_type": "code",
   "execution_count": null,
   "metadata": {
    "collapsed": true
   },
   "outputs": [],
   "source": [
    "#!/bin/python3\n",
    "\n",
    "import sys\n",
    "from collections import OrderedDict\n",
    "\n",
    "\n",
    "if __name__ == \"__main__\":\n",
    "    s = sorted(input())\n",
    "    d=OrderedDict()\n",
    "    three_most_common=range(0,3) \n",
    "    \n",
    "#The method setdefault() is similar to get(), but will set dict[key]=default if key is not already in dict.\n",
    "#od.setdefault(k[,d]) -> od.get(k,d), also set od[k]=d if k not in od\n",
    "    \n",
    "    for i in range(len(s)):\n",
    "        d.setdefault(s[i],0)\n",
    "        d[s[i]]= d[s[i]] + 1\n",
    "\n",
    "    key=sorted(d,key=d.get,reverse=True)\n",
    "    \n",
    "    for r in three_most_common:\n",
    "        print (key[r],d[key[r]])"
   ]
  },
  {
   "cell_type": "markdown",
   "metadata": {},
   "source": [
    "# Subdomains: Date and Time Challenges"
   ]
  },
  {
   "cell_type": "markdown",
   "metadata": {},
   "source": [
    "Calendar Module"
   ]
  },
  {
   "cell_type": "code",
   "execution_count": null,
   "metadata": {
    "collapsed": true
   },
   "outputs": [],
   "source": [
    "import calendar\n",
    "\n",
    "def correct (m,d, y):\n",
    "    year=y\n",
    "    month=m\n",
    "    day=d\n",
    "    a=calendar.weekday(year,month,day)\n",
    "    if a==0:\n",
    "        print (\"MONDAY\")\n",
    "    if a==1:\n",
    "        print (\"TUESDAY\")\n",
    "    if a==2:\n",
    "        print (\"WEDNESDAY\")\n",
    "    if a==3:\n",
    "        print (\"THURSDAY\")\n",
    "    if a==4:\n",
    "        print (\"FRIDAY\")\n",
    "    if a==5:\n",
    "        print (\"SATURDAY\")\n",
    "    if a==6:\n",
    "        print (\"SUNDAY\")\n",
    "\n",
    "s= input().split()\n",
    "m=int(s[0])\n",
    "d=int(s[1])\n",
    "y=int(s[2])\n",
    "correct(m,d,y)"
   ]
  },
  {
   "cell_type": "markdown",
   "metadata": {},
   "source": [
    "Time Delta"
   ]
  },
  {
   "cell_type": "code",
   "execution_count": null,
   "metadata": {
    "collapsed": true
   },
   "outputs": [],
   "source": [
    "from datetime import datetime\n",
    "\n",
    "\n",
    "t = int(input().strip())\n",
    "\n",
    "\n",
    "formato='%a %d %b %Y %H:%M:%S %z'\n",
    "\n",
    "for a0 in range(t):\n",
    "    t1 = datetime.strptime(input(),formato)\n",
    "    \n",
    "    t2 = datetime.strptime(input(),formato)\n",
    "    \n",
    "    prova = (int(abs((t1-t2).total_seconds())))\n",
    "    print (prova)"
   ]
  },
  {
   "cell_type": "markdown",
   "metadata": {},
   "source": [
    "# Subdomains: Errors and Exceptions Challenges"
   ]
  },
  {
   "cell_type": "markdown",
   "metadata": {},
   "source": [
    "Exceptions"
   ]
  },
  {
   "cell_type": "code",
   "execution_count": null,
   "metadata": {
    "collapsed": true
   },
   "outputs": [],
   "source": [
    "n=int(input())\n",
    "for i in range(n):\n",
    "    try:\n",
    "        a,b = map(int,input().split())\n",
    "        print(a//b)\n",
    "    except ZeroDivisionError as e:\n",
    "        print (\"Error Code:\", e)\n",
    "    except ValueError as v:\n",
    "        print (\"Error Code:\", v)"
   ]
  },
  {
   "cell_type": "markdown",
   "metadata": {},
   "source": [
    "# Subdomains: Built-Ins Challenges"
   ]
  },
  {
   "cell_type": "markdown",
   "metadata": {},
   "source": [
    "Zipped!"
   ]
  },
  {
   "cell_type": "code",
   "execution_count": null,
   "metadata": {
    "collapsed": true
   },
   "outputs": [],
   "source": [
    "N,X = map(int, input().split())\n",
    "vuota=[]\n",
    "for e in range(X):\n",
    "    vuota.append(map(float, input().split()))\n",
    "for l in zip(*vuota):\n",
    "    print(sum(l)/(len(l)))"
   ]
  },
  {
   "cell_type": "markdown",
   "metadata": {},
   "source": [
    "Sort Data"
   ]
  },
  {
   "cell_type": "code",
   "execution_count": null,
   "metadata": {
    "collapsed": true
   },
   "outputs": [],
   "source": [
    "\n",
    "import sys\n",
    "\n",
    "if __name__ == \"__main__\":\n",
    "    n, m = input().strip().split(' ')\n",
    "    n, m = [int(n), int(m)]\n",
    "    arr = []\n",
    "    for arr_i in range(n):\n",
    "        arr_t = [int(arr_temp) for arr_temp in input().strip().split(' ')]\n",
    "        arr.append(arr_t)\n",
    "    k = int(input().strip())\n",
    "    \n",
    "\n",
    "from operator import itemgetter \n",
    "\n",
    "arr.sort(key=itemgetter(k))\n",
    "for i in arr:\n",
    "    print(*i)"
   ]
  },
  {
   "cell_type": "markdown",
   "metadata": {},
   "source": [
    "ginortS"
   ]
  },
  {
   "cell_type": "code",
   "execution_count": null,
   "metadata": {
    "collapsed": true
   },
   "outputs": [],
   "source": [
    "import string\n",
    "print(*sorted(input(), key=(string.ascii_letters + '1357902468').index), sep='')"
   ]
  },
  {
   "cell_type": "markdown",
   "metadata": {},
   "source": [
    "# Subdomains: Python Functionals Challenges"
   ]
  },
  {
   "cell_type": "markdown",
   "metadata": {},
   "source": [
    "Map and Lambda Function"
   ]
  },
  {
   "cell_type": "code",
   "execution_count": null,
   "metadata": {
    "collapsed": true
   },
   "outputs": [],
   "source": [
    "cube = lambda x: pow(x,3) # complete the lambda function \n",
    "\n",
    "def fibonacci(n):\n",
    "    # return a list of fibonacci numbers\n",
    "    esce=[0,1]\n",
    "    for i in range (2,n):\n",
    "        esce.append(esce[i-2] + esce[i-1])\n",
    "    return(esce[0:n])"
   ]
  },
  {
   "cell_type": "markdown",
   "metadata": {},
   "source": [
    "# Subdomains: Regex and Parsing Challenges"
   ]
  },
  {
   "cell_type": "markdown",
   "metadata": {},
   "source": [
    "Introduction to Regex Module"
   ]
  },
  {
   "cell_type": "code",
   "execution_count": null,
   "metadata": {
    "collapsed": true
   },
   "outputs": [],
   "source": [
    "import re\n",
    "aa=int(input().strip())\n",
    "for j in range(aa):\n",
    "    print(bool(re.match(r'^[-+]?[0-9]*\\.[0-9]+$',input())))"
   ]
  },
  {
   "cell_type": "markdown",
   "metadata": {},
   "source": [
    "Re.split()"
   ]
  },
  {
   "cell_type": "code",
   "execution_count": null,
   "metadata": {
    "collapsed": true
   },
   "outputs": [],
   "source": [
    "import re\n",
    "\n",
    "print(*re.split(r'[,.]+', input().strip(',. ')), sep=\"\\n\")"
   ]
  },
  {
   "cell_type": "markdown",
   "metadata": {},
   "source": [
    "Group(), Groups() & Groupdict()"
   ]
  },
  {
   "cell_type": "code",
   "execution_count": null,
   "metadata": {
    "collapsed": true
   },
   "outputs": [],
   "source": [
    "import re\n",
    "\n",
    "giusto = re.search(r\"([a-zA-Z0-9])\\1+\", input())\n",
    "if giusto:\n",
    "    print (giusto.group(1))\n",
    "else:\n",
    "    print (\"-1\")"
   ]
  },
  {
   "cell_type": "markdown",
   "metadata": {},
   "source": [
    "Re.findall() & Re.finditer()"
   ]
  },
  {
   "cell_type": "code",
   "execution_count": null,
   "metadata": {
    "collapsed": true
   },
   "outputs": [],
   "source": [
    "import re\n",
    "\n",
    "prova=re.findall(r'[QWRTYPSDFGHJKLZXCVBNMqwrtypsdfghjklzxcvbnm]?([AEIOUaeiou][AEIOUaeiou]+)[QWRTYPSDFGHJKLZXCVBNMqwrtypsdfghjklzxcvbnm]',input(),re.I)\n",
    "if prova:\n",
    "    for i in prova:\n",
    "        print (i)\n",
    "else:\n",
    "    print (\"-1\")\n",
    "    "
   ]
  },
  {
   "cell_type": "markdown",
   "metadata": {},
   "source": [
    "Re.start() & Re.end()"
   ]
  },
  {
   "cell_type": "code",
   "execution_count": null,
   "metadata": {
    "collapsed": true
   },
   "outputs": [],
   "source": [
    "import re\n",
    "primo = input()\n",
    "secondo = input()\n",
    "si = list(re.finditer(r\"(?=(\"+secondo+\"))\", primo))\n",
    "\n",
    "if si:\n",
    "    for match in si:\n",
    "        print(*[(match.start(1), match.end(1)-1) ], sep=\"\\n\")\n",
    "else:\n",
    "    print((-1, -1))"
   ]
  },
  {
   "cell_type": "markdown",
   "metadata": {},
   "source": [
    "Regex Substitution"
   ]
  },
  {
   "cell_type": "code",
   "execution_count": null,
   "metadata": {
    "collapsed": true
   },
   "outputs": [],
   "source": [
    "import re\n",
    "n=int(input())\n",
    "for i in range(n):\n",
    "    qualcosa = input()\n",
    "    while \" && \" in qualcosa or \" || \"  in qualcosa:\n",
    "        qualcosa = re.sub(r'\\s\\&\\&\\s',' and ',qualcosa)\n",
    "        qualcosa = re.sub(r'\\s\\|\\|\\s',' or ',qualcosa)\n",
    "    print(qualcosa)"
   ]
  },
  {
   "cell_type": "markdown",
   "metadata": {},
   "source": [
    "Validating Roman Numerals"
   ]
  },
  {
   "cell_type": "code",
   "execution_count": null,
   "metadata": {
    "collapsed": true
   },
   "outputs": [],
   "source": [
    "import re\n",
    "x=(input())\n",
    "pattern = '^M{0,3}(CM|CD|D?C{0,3})(XC|XL|L?X{0,3})(IX|IV|V?I{0,3})$'\n",
    "if re.search(pattern, x):\n",
    "    print ('True')\n",
    "else:\n",
    "    print ('False')"
   ]
  },
  {
   "cell_type": "markdown",
   "metadata": {},
   "source": [
    "Validating phone numbers"
   ]
  },
  {
   "cell_type": "code",
   "execution_count": null,
   "metadata": {
    "collapsed": true
   },
   "outputs": [],
   "source": [
    "import re\n",
    "n=int(input())\n",
    "for i in range(n):\n",
    "    if re.match(r'[789]\\d{9}$',input()):\n",
    "        print (\"YES\")\n",
    "    else:\n",
    "        print (\"NO\")"
   ]
  },
  {
   "cell_type": "markdown",
   "metadata": {},
   "source": [
    "Validating and Parsing Email Addresses"
   ]
  },
  {
   "cell_type": "code",
   "execution_count": null,
   "metadata": {
    "collapsed": true
   },
   "outputs": [],
   "source": [
    "import re\n",
    "import email.utils\n",
    "from email.utils import *\n",
    "\n",
    "n = int(input())\n",
    "\n",
    "for i in range(n):\n",
    "    prova = parseaddr(input())\n",
    "    if re.search( r'^[a-z][\\w\\-\\.]+@[a-z]+\\.[a-z]{1,3}$', prova[1]):\n",
    "        print(formataddr(prova))"
   ]
  },
  {
   "cell_type": "markdown",
   "metadata": {},
   "source": [
    "Hex Color Code"
   ]
  },
  {
   "cell_type": "code",
   "execution_count": null,
   "metadata": {
    "collapsed": true
   },
   "outputs": [],
   "source": [
    "import re\n",
    "n=int(input())\n",
    "for i in range(n):\n",
    "    si = re.findall(r':?.(#[0-9a-fA-F]{6}|#[0-9a-fA-F]{3})', input())\n",
    "    if si:\n",
    "        print(*si, sep='\\n')"
   ]
  },
  {
   "cell_type": "markdown",
   "metadata": {},
   "source": [
    "HTML Parser - Part 1 "
   ]
  },
  {
   "cell_type": "code",
   "execution_count": null,
   "metadata": {
    "collapsed": true
   },
   "outputs": [],
   "source": [
    "import re\n",
    "from html.parser import HTMLParser\n",
    "\n",
    "class MyHTMLParser(HTMLParser):\n",
    "    def handle_starttag(self, tag, attrs):\n",
    "        print(\"Start :\", tag)\n",
    "        if bool(attrs) == True:\n",
    "            for item in attrs:\n",
    "                print(\"->\",item[0],\">\",item[1])\n",
    "    def handle_endtag(self, tag):\n",
    "        print(\"End   :\", tag)\n",
    "    def handle_startendtag(self, tag, attrs):\n",
    "        print(\"Empty :\", tag)\n",
    "        if bool(attrs) == True:\n",
    "            for item in attrs:\n",
    "                print(\"->\",item[0],\">\",item[1])\n",
    "\n",
    "parser = MyHTMLParser()\n",
    "ok = str()\n",
    "for i in range(int(input())):\n",
    "    ok = ok + input()\n",
    "ok = re.sub(r\"\\<\\!--.*?--\\>\", \"\", ok)\n",
    "parser.feed(ok)"
   ]
  },
  {
   "cell_type": "markdown",
   "metadata": {},
   "source": [
    "HTML Parser - Part 2"
   ]
  },
  {
   "cell_type": "code",
   "execution_count": null,
   "metadata": {
    "collapsed": true
   },
   "outputs": [],
   "source": [
    "from html.parser import HTMLParser\n",
    "\n",
    "class MyHTMLParser(HTMLParser):\n",
    "    def handle_comment(self, data):\n",
    "        if '\\n' in data:\n",
    "            print ('>>> Multi-line Comment')\n",
    "        else:\n",
    "            print ('>>> Single-line Comment')\n",
    "        print (data)\n",
    "    def handle_data(self, data):\n",
    "        if data=='\\n':\n",
    "            return\n",
    "        else:    \n",
    "            print (\">>> Data\")\n",
    "            print (data)\n",
    "        \n",
    "N= int(input())\n",
    "ok =''\n",
    "for i in range(N):\n",
    "    ok = ok + input().rstrip()+'\\n'\n",
    "parser = MyHTMLParser()\n",
    "parser.feed(ok)"
   ]
  },
  {
   "cell_type": "markdown",
   "metadata": {},
   "source": [
    "Detect HTML Tags, Attributes and Attribute Values"
   ]
  },
  {
   "cell_type": "code",
   "execution_count": null,
   "metadata": {
    "collapsed": true
   },
   "outputs": [],
   "source": [
    "import re\n",
    "from html.parser import HTMLParser\n",
    "\n",
    "class MyHTMLParser(HTMLParser):\n",
    "    def handle_starttag(self, tag, attrs):\n",
    "        print(tag)\n",
    "        if bool(attrs) == True:\n",
    "            for item in attrs:\n",
    "                print(\"->\",item[0],\">\",item[1])\n",
    "    \n",
    "    \n",
    "\n",
    "parser = MyHTMLParser()\n",
    "ok = str()\n",
    "for i in range(int(input())):\n",
    "    ok = ok + input()\n",
    "ok = re.sub(r\"\\<\\!--.*?--\\>\", \"\", ok)\n",
    "parser.feed(ok)"
   ]
  },
  {
   "cell_type": "markdown",
   "metadata": {},
   "source": [
    "Validating UID"
   ]
  },
  {
   "cell_type": "code",
   "execution_count": null,
   "metadata": {
    "collapsed": true
   },
   "outputs": [],
   "source": [
    "import re\n",
    "n= int(input())\n",
    "for i in range (n):\n",
    "    if re.match(r'^(?!.*(.).*\\1)(?=(?:.*[A-Z]){2,})(?=(?:.*\\d){3,})[a-zA-Z0-9]{10}$', input()):\n",
    "        print('Valid')\n",
    "    else:\n",
    "        print ('Invalid')"
   ]
  },
  {
   "cell_type": "markdown",
   "metadata": {},
   "source": [
    "Validating Credit Card Numbers"
   ]
  },
  {
   "cell_type": "code",
   "execution_count": null,
   "metadata": {
    "collapsed": true
   },
   "outputs": [],
   "source": [
    "import re\n",
    "n=int(input())\n",
    "for i in range (n):\n",
    "    ciao=input()\n",
    "    if re.match(r'^[456]([\\d]{15}|[\\d]{3}(-[\\d]{4}){3})$',ciao) and not re.search(r'(\\d)\\1{3}', ciao.replace(\"-\", \"\")):\n",
    "        print(\"Valid\")\n",
    "    \n",
    "    else:\n",
    "        print (\"Invalid\")"
   ]
  },
  {
   "cell_type": "markdown",
   "metadata": {},
   "source": [
    "Validating Postal Codes"
   ]
  },
  {
   "cell_type": "code",
   "execution_count": null,
   "metadata": {
    "collapsed": true
   },
   "outputs": [],
   "source": [
    "import re\n",
    "primo=input()\n",
    "while (re.match(r'^[1-9][\\d]{5}$',primo) and len(re.findall(r'(\\d)(?=\\d\\1)',primo))<2):\n",
    "    print ('True')\n",
    "    exit(0)\n",
    "else:\n",
    "    print('False')"
   ]
  },
  {
   "cell_type": "markdown",
   "metadata": {},
   "source": [
    "Matrix Script"
   ]
  },
  {
   "cell_type": "code",
   "execution_count": null,
   "metadata": {
    "collapsed": true
   },
   "outputs": [],
   "source": [
    "#!/bin/python3\n",
    "\n",
    "import sys\n",
    "import re\n",
    "\n",
    "\n",
    "n, m = input().strip().split(' ')\n",
    "n, m = [int(n), int(m)]\n",
    "matrix = []\n",
    "for i in range(n):\n",
    "    a=str(input())\n",
    "    matrix.append(a)\n",
    "s = ''\n",
    "for i in range (m):\n",
    "    for a in matrix:\n",
    "        s += a[i]\n",
    "print ( re.sub(r\"(?<=[a-zA-Z])([\\$\\#\\!\\@\\%\\&\\s]+)(?=[a-zA-Z])\", \" \", s))"
   ]
  },
  {
   "cell_type": "markdown",
   "metadata": {},
   "source": [
    "# Subdomains: XML Challenges"
   ]
  },
  {
   "cell_type": "markdown",
   "metadata": {},
   "source": [
    "XML 1 - Find the Score"
   ]
  },
  {
   "cell_type": "code",
   "execution_count": null,
   "metadata": {
    "collapsed": true
   },
   "outputs": [],
   "source": [
    "def get_attr_number(node):\n",
    "    # your code goes here\n",
    "    elementi=0\n",
    "    for i in xml:\n",
    "        if i=='=':\n",
    "            elementi=elementi+1\n",
    "    return elementi"
   ]
  },
  {
   "cell_type": "markdown",
   "metadata": {},
   "source": [
    "XML2 - Find the Maximum Depth"
   ]
  },
  {
   "cell_type": "code",
   "execution_count": null,
   "metadata": {
    "collapsed": true
   },
   "outputs": [],
   "source": [
    "from xml.etree.ElementTree import XMLParser\n",
    "\n",
    "maxdepth = 0\n",
    "def depth(elem, level):\n",
    "    global maxdepth\n",
    "    # your code goes here\n",
    "    maxdepth = max(maxdepth, level+1)\n",
    "    for prova in elem:\n",
    "        depth(prova, level+1)\n",
    "    return maxdepth"
   ]
  },
  {
   "cell_type": "markdown",
   "metadata": {},
   "source": [
    "# Subdomains: Closures and Decorators Challenges"
   ]
  },
  {
   "cell_type": "markdown",
   "metadata": {},
   "source": [
    "Standardize Mobile Number Using Decorators"
   ]
  },
  {
   "cell_type": "code",
   "execution_count": null,
   "metadata": {
    "collapsed": true
   },
   "outputs": [],
   "source": [
    "def wrapper(f):\n",
    "    def fun(l): \n",
    "        f(['+91 '+i[-10:-5]+' '+i[-5:] for i in l])\n",
    "        return\n",
    "    return fun\n"
   ]
  },
  {
   "cell_type": "markdown",
   "metadata": {},
   "source": [
    "Decorators 2 - Name Directory"
   ]
  },
  {
   "cell_type": "code",
   "execution_count": null,
   "metadata": {
    "collapsed": true
   },
   "outputs": [],
   "source": [
    "from operator import itemgetter\n",
    "def person_lister(f):\n",
    "    def inner(people):\n",
    "        # complete the function\n",
    "        return [f(p) for p in sorted(people, key=lambda x: int(x[2]))]\n",
    "        #return [f(p) for p in sorted(int(people, key=itemgetter(2)))]\n",
    "         \n",
    "            \n",
    "    return inner"
   ]
  },
  {
   "cell_type": "markdown",
   "metadata": {},
   "source": [
    "# Subdomains: Numpy Challenges"
   ]
  },
  {
   "cell_type": "markdown",
   "metadata": {},
   "source": [
    "Arrays"
   ]
  },
  {
   "cell_type": "code",
   "execution_count": null,
   "metadata": {
    "collapsed": true
   },
   "outputs": [],
   "source": [
    "def arrays(arr):\n",
    "    # complete this function\n",
    "    # use numpy.array \n",
    "    nuova=numpy.array(arr,float)\n",
    "    return (nuova[::-1])"
   ]
  },
  {
   "cell_type": "markdown",
   "metadata": {},
   "source": [
    "Shape and Reshape"
   ]
  },
  {
   "cell_type": "code",
   "execution_count": null,
   "metadata": {
    "collapsed": true
   },
   "outputs": [],
   "source": [
    "import numpy\n",
    "n=list(map(int, input().split())) \n",
    "\n",
    "nn=numpy.array(n)\n",
    "nn.shape = (3, 3)\n",
    "print(nn)"
   ]
  },
  {
   "cell_type": "markdown",
   "metadata": {},
   "source": [
    "Transpose and Flatten"
   ]
  },
  {
   "cell_type": "code",
   "execution_count": null,
   "metadata": {
    "collapsed": true
   },
   "outputs": [],
   "source": [
    "import numpy\n",
    "\n",
    "dim=list(map(int, input().split())) \n",
    "N=dim[0]\n",
    "M=dim[1]\n",
    "\n",
    "righe=[]\n",
    "for i in range(N):\n",
    "    nuove = list(map(int, input().split()))\n",
    "    righe.append(nuove)\n",
    "\n",
    "\n",
    "righe_arr=numpy.array(righe)\n",
    "print (numpy.transpose(righe_arr))\n",
    "\n",
    "print (righe_arr.flatten())"
   ]
  },
  {
   "cell_type": "markdown",
   "metadata": {},
   "source": [
    "Concatenate"
   ]
  },
  {
   "cell_type": "code",
   "execution_count": null,
   "metadata": {
    "collapsed": true
   },
   "outputs": [],
   "source": [
    "import numpy\n",
    "\n",
    "\n",
    "dim=list(map(int, input().split())) \n",
    "N=dim[0]\n",
    "M=dim[1]\n",
    "P=dim[2]\n",
    "tot=(N+M)\n",
    "\n",
    "colonne=[]\n",
    "for i in range(tot):\n",
    "    nuove = list(map(int, input().split()))\n",
    "    colonne.append(nuove)\n",
    "    \n",
    "array_1 = numpy.array(colonne)\n",
    "\n",
    "print(array_1)"
   ]
  },
  {
   "cell_type": "markdown",
   "metadata": {},
   "source": [
    "Zeros and Ones"
   ]
  },
  {
   "cell_type": "code",
   "execution_count": null,
   "metadata": {
    "collapsed": true
   },
   "outputs": [],
   "source": [
    "import numpy\n",
    "dim=list(map(int, input().split()))\n",
    "\n",
    "\n",
    "print (numpy.zeros(dim, dtype = numpy.int))\n",
    "print (numpy.ones (dim, dtype = numpy.int))"
   ]
  },
  {
   "cell_type": "markdown",
   "metadata": {},
   "source": [
    "Eye and Identity"
   ]
  },
  {
   "cell_type": "code",
   "execution_count": null,
   "metadata": {
    "collapsed": true
   },
   "outputs": [],
   "source": [
    "import numpy\n",
    "dim=list(map(int, input().split())) \n",
    "N=dim[0]\n",
    "M=dim[1]\n",
    "\n",
    "if N==M:\n",
    "    print (numpy.identity(N))\n",
    "else:\n",
    "    print (numpy.eye(N, M, k = 0))"
   ]
  },
  {
   "cell_type": "markdown",
   "metadata": {},
   "source": [
    "Array Mathematics"
   ]
  },
  {
   "cell_type": "code",
   "execution_count": null,
   "metadata": {
    "collapsed": true
   },
   "outputs": [],
   "source": [
    "import numpy\n",
    "\n",
    "dim=list(map(int, input().split())) \n",
    "N=dim[0]\n",
    "M=dim[1]\n",
    "tot=[N*2]\n",
    "\n",
    "A=[]\n",
    "for i in range(N):\n",
    "    nuove = list(map(int, input().split()))\n",
    "    A.append(nuove)\n",
    "\n",
    "a=numpy.array(A)    \n",
    "    \n",
    "B=[]\n",
    "for i in range(len(tot)):\n",
    "    nuove = list(map(int, input().split()))\n",
    "    B.append(nuove)\n",
    "\n",
    "b=numpy.array(B)\n",
    "\n",
    "\n",
    "print (numpy.add(a, b))\n",
    "print (numpy.subtract(a, b)) \n",
    "print (numpy.multiply(a, b))\n",
    "print (a//b)\n",
    "print (numpy.mod(a, b))\n",
    "print (numpy.power(a, b)) \n"
   ]
  },
  {
   "cell_type": "markdown",
   "metadata": {},
   "source": [
    "Floor, Ceil and Rint"
   ]
  },
  {
   "cell_type": "code",
   "execution_count": null,
   "metadata": {
    "collapsed": true
   },
   "outputs": [],
   "source": [
    "import numpy\n",
    "\n",
    "A=list(map(float, input().split())) \n",
    "my_array = numpy.array(A)\n",
    "print (numpy.floor(my_array))\n",
    "print (numpy.ceil(my_array))\n",
    "print (numpy.rint(my_array) )"
   ]
  },
  {
   "cell_type": "markdown",
   "metadata": {},
   "source": [
    "Sum and Prod"
   ]
  },
  {
   "cell_type": "code",
   "execution_count": null,
   "metadata": {
    "collapsed": true
   },
   "outputs": [],
   "source": [
    "import numpy\n",
    "\n",
    "dim=list(map(int, input().split())) \n",
    "N=dim[0]\n",
    "M=dim[1]\n",
    "\n",
    "A=[]\n",
    "for i in range(N):\n",
    "    nuove = list(map(int, input().split()))\n",
    "    A.append(nuove)\n",
    "    \n",
    "my_array = numpy.array(A)\n",
    "\n",
    "somma= numpy.sum(my_array, axis = 0) \n",
    "print (numpy.prod(somma))"
   ]
  },
  {
   "cell_type": "markdown",
   "metadata": {},
   "source": [
    "Min and Max"
   ]
  },
  {
   "cell_type": "code",
   "execution_count": null,
   "metadata": {
    "collapsed": true
   },
   "outputs": [],
   "source": [
    "import numpy\n",
    "\n",
    "dim=list(map(int, input().split())) \n",
    "N=dim[0]\n",
    "M=dim[1]\n",
    "\n",
    "\n",
    "A=[]\n",
    "for i in range(N):\n",
    "    nuove = list(map(int, input().split()))\n",
    "    A.append(nuove)\n",
    "\n",
    "a=numpy.array(A) \n",
    "\n",
    "minimo=numpy.min(a, axis = 1)  \n",
    "print(numpy.max(minimo) )"
   ]
  },
  {
   "cell_type": "markdown",
   "metadata": {},
   "source": [
    "Mean, Var, and Std"
   ]
  },
  {
   "cell_type": "code",
   "execution_count": null,
   "metadata": {
    "collapsed": true
   },
   "outputs": [],
   "source": [
    "import numpy\n",
    "\n",
    "\n",
    "dim=list(map(int, input().split())) \n",
    "N=dim[0]\n",
    "M=dim[1]\n",
    "tot=[N*2]\n",
    "\n",
    "A=[]\n",
    "for i in range(N):\n",
    "    nuove = list(map(int, input().split()))\n",
    "    A.append(nuove)\n",
    "\n",
    "a=numpy.array(A)    \n",
    "\n",
    "print (numpy.mean(a, axis = 1))\n",
    "print (numpy.var(a, axis = 0))\n",
    "print (numpy.std(a, axis = None))"
   ]
  },
  {
   "cell_type": "markdown",
   "metadata": {},
   "source": [
    "Dot and Cross"
   ]
  },
  {
   "cell_type": "code",
   "execution_count": null,
   "metadata": {
    "collapsed": true
   },
   "outputs": [],
   "source": [
    "import numpy\n",
    "\n",
    "dim=list(map(int, input().split())) \n",
    "N=dim[0]\n",
    "tot=N*2\n",
    "\n",
    "A=[]\n",
    "for i in range(N):\n",
    "    nuove = list(map(int, input().split()))\n",
    "    A.append(nuove)\n",
    "\n",
    "a=numpy.array(A)    \n",
    "    \n",
    "B=[]\n",
    "for i in range(N,tot):\n",
    "    nuove = list(map(int, input().split()))\n",
    "    B.append(nuove)\n",
    "\n",
    "b=numpy.array(B)  \n",
    "\n",
    "print (numpy.dot(a, b))"
   ]
  },
  {
   "cell_type": "markdown",
   "metadata": {},
   "source": [
    "Inner and Outer"
   ]
  },
  {
   "cell_type": "code",
   "execution_count": null,
   "metadata": {
    "collapsed": true
   },
   "outputs": [],
   "source": [
    "import numpy\n",
    "\n",
    "A=list(map(int, input().split())) \n",
    "B=list(map(int, input().split())) \n",
    "\n",
    "print (numpy.inner(A, B))\n",
    "print (numpy.outer(A, B))"
   ]
  },
  {
   "cell_type": "markdown",
   "metadata": {},
   "source": [
    "Polynomials"
   ]
  },
  {
   "cell_type": "code",
   "execution_count": null,
   "metadata": {
    "collapsed": true
   },
   "outputs": [],
   "source": [
    "import numpy\n",
    "\n",
    "val_coeff=list(map(float, input().split())) \n",
    "val_x=int(input())\n",
    "\n",
    "\n",
    "print (numpy.polyval(val_coeff, val_x))"
   ]
  },
  {
   "cell_type": "markdown",
   "metadata": {},
   "source": [
    "Linear Algebra"
   ]
  },
  {
   "cell_type": "code",
   "execution_count": null,
   "metadata": {
    "collapsed": true
   },
   "outputs": [],
   "source": [
    "import numpy\n",
    "\n",
    "dim=list(map(int, input().split())) \n",
    "N=dim[0]\n",
    "tot=N*2\n",
    "\n",
    "A=[]\n",
    "for i in range(N):\n",
    "    nuove = list(map(float, input().split()))\n",
    "    A.append(nuove)\n",
    "\n",
    "a=numpy.array(A)    \n",
    "    \n",
    "print (numpy.linalg.det(a))"
   ]
  }
 ],
 "metadata": {
  "kernelspec": {
   "display_name": "Python 3",
   "language": "python",
   "name": "python3"
  },
  "language_info": {
   "codemirror_mode": {
    "name": "ipython",
    "version": 3
   },
   "file_extension": ".py",
   "mimetype": "text/x-python",
   "name": "python",
   "nbconvert_exporter": "python",
   "pygments_lexer": "ipython3",
   "version": "3.6.1"
  }
 },
 "nbformat": 4,
 "nbformat_minor": 2
}
